{
 "cells": [
  {
   "cell_type": "code",
   "execution_count": 2,
   "metadata": {
    "collapsed": true
   },
   "outputs": [],
   "source": [
    "%matplotlib inline\n",
    "%reload_ext autoreload\n",
    "%autoreload 2\n",
    "import proj1_helpers as helpers\n",
    "import scipy as sp\n",
    "import matplotlib.pyplot as plot\n",
    "import numpy as np\n",
    "import implementations as implementations\n",
    "from run import *\n",
    "from jgrondier_helpers import pearson_coeffs, build_pearson_coeffs_data"
   ]
  },
  {
   "cell_type": "code",
   "execution_count": 3,
   "metadata": {
    "collapsed": true
   },
   "outputs": [],
   "source": [
    "y_train, raw_data, _ = helpers.load_csv_data(\"../data/train.csv\", False)\n",
    "train_data = prepare_data(raw_data, analyse_data(raw_data), 6)\n",
    "\n",
    "max_iter = 100\n",
    "gamma = 0.01\n",
    "lambda_ = 0.017\n",
    "threshold = 1e-8\n",
    "losses = []\n",
    "\n"
   ]
  },
  {
   "cell_type": "code",
   "execution_count": 4,
   "metadata": {
    "collapsed": true
   },
   "outputs": [],
   "source": [
    "y,x = y_train, train_data\n",
    "y = np.expand_dims(y, axis=1)\n"
   ]
  },
  {
   "cell_type": "code",
   "execution_count": 4,
   "metadata": {},
   "outputs": [
    {
     "data": {
      "text/plain": [
       "(250000, 1)"
      ]
     },
     "execution_count": 4,
     "metadata": {},
     "output_type": "execute_result"
    }
   ],
   "source": [
    "np.shape(y)"
   ]
  },
  {
   "cell_type": "code",
   "execution_count": 31,
   "metadata": {},
   "outputs": [
    {
     "name": "stderr",
     "output_type": "stream",
     "text": [
      "100%|████████████████████████████████████████████████████████████████████████████████| 100/100 [00:05<00:00, 17.20it/s]\n"
     ]
    }
   ],
   "source": [
    "pri_train_buckets = bucket_events(raw_data)\n",
    "#pri_w = [train_logistic(y[b], x[b], gamma, lambda_, max_iter, threshold)[0] for b in pri_train_buckets]\n",
    "pri_w = train_logistic(y, x, gamma, lambda_, max_iter, threshold, calculate_loss)[0]\n"
   ]
  },
  {
   "cell_type": "code",
   "execution_count": 9,
   "metadata": {
    "collapsed": true
   },
   "outputs": [],
   "source": [
    "_, raw_test_data, ids = helpers.load_csv_data(\"../data/test.csv\", False)\n",
    "test_data = prepare_data(raw_test_data, analyse_data(raw_data), 6)\n"
   ]
  },
  {
   "cell_type": "code",
   "execution_count": 29,
   "metadata": {},
   "outputs": [
    {
     "name": "stderr",
     "output_type": "stream",
     "text": [
      "568238it [00:01, 565596.05it/s]\n"
     ]
    }
   ],
   "source": [
    "preds = np.ones(len(test_data))\n",
    "for i, ev in tqdm(enumerate(test_data)):\n",
    "    z = pri_w[:,0].dot(ev)\n",
    "    preds[i] = -1 if z < 0 else 1\n"
   ]
  },
  {
   "cell_type": "code",
   "execution_count": 26,
   "metadata": {},
   "outputs": [
    {
     "data": {
      "text/plain": [
       "array([-127825.26420967])"
      ]
     },
     "execution_count": 26,
     "metadata": {},
     "output_type": "execute_result"
    }
   ],
   "source": [
    "pri_w[0][:]"
   ]
  },
  {
   "cell_type": "code",
   "execution_count": null,
   "metadata": {
    "collapsed": true
   },
   "outputs": [],
   "source": []
  }
 ],
 "metadata": {
  "kernelspec": {
   "display_name": "Python 3",
   "language": "python",
   "name": "python3"
  },
  "language_info": {
   "codemirror_mode": {
    "name": "ipython",
    "version": 3
   },
   "file_extension": ".py",
   "mimetype": "text/x-python",
   "name": "python",
   "nbconvert_exporter": "python",
   "pygments_lexer": "ipython3",
   "version": "3.6.2"
  }
 },
 "nbformat": 4,
 "nbformat_minor": 2
}
