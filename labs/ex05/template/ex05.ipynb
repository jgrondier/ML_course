{
 "cells": [
  {
   "cell_type": "code",
   "execution_count": 1,
   "metadata": {
    "collapsed": true
   },
   "outputs": [],
   "source": [
    "# Useful starting lines\n",
    "%matplotlib inline\n",
    "import numpy as np\n",
    "import matplotlib.pyplot as plt\n",
    "%load_ext autoreload\n",
    "%autoreload 2"
   ]
  },
  {
   "cell_type": "markdown",
   "metadata": {},
   "source": [
    "# Logistic Regression\n",
    "## Classification Using Linear Regression\n",
    "Load your data."
   ]
  },
  {
   "cell_type": "code",
   "execution_count": 2,
   "metadata": {
    "collapsed": true
   },
   "outputs": [],
   "source": [
    "from helpers import sample_data, load_data, standardize\n",
    "\n",
    "# load data.\n",
    "height, weight, gender = load_data()\n",
    "\n",
    "# build sampled x and y.\n",
    "seed = 1\n",
    "y = np.expand_dims(gender, axis=1)\n",
    "X = np.c_[height.reshape(-1), weight.reshape(-1)]\n",
    "y, X = sample_data(y, X, seed, size_samples=200)\n",
    "x, mean_x, std_x = standardize(X)"
   ]
  },
  {
   "cell_type": "code",
   "execution_count": 34,
   "metadata": {},
   "outputs": [
    {
     "data": {
      "text/plain": [
       "(200, 1)"
      ]
     },
     "execution_count": 34,
     "metadata": {},
     "output_type": "execute_result"
    }
   ],
   "source": []
  },
  {
   "cell_type": "markdown",
   "metadata": {},
   "source": [
    "Use `least_squares` to compute w, and visualize the results."
   ]
  },
  {
   "cell_type": "code",
   "execution_count": 20,
   "metadata": {},
   "outputs": [
    {
     "data": {
      "image/png": "[encoded data removed]",
      "text/plain": [
       "<matplotlib.figure.Figure at 0x1fea69ec240>"
      ]
     },
     "metadata": {},
     "output_type": "display_data"
    }
   ],
   "source": [
    "from least_squares import least_squares\n",
    "from plots import visualization\n",
    "\n",
    "def least_square_classification_demo(y, x):\n",
    "    # ***************************************************\n",
    "    # INSERT YOUR CODE HERE\n",
    "    # classify the data by linear regression: TODO\n",
    "    # ***************************************************\n",
    "    tx = np.c_[np.ones((y.shape[0], 1)), x]\n",
    "    # w = least squares with respect to tx\n",
    "        \n",
    "    mse, w = least_squares(y,tx)\n",
    "    \n",
    "    visualization(y, x, mean_x, std_x, w, \"classification_by_least_square\")\n",
    "    \n",
    "least_square_classification_demo(y, x)"
   ]
  },
  {
   "cell_type": "markdown",
   "metadata": {},
   "source": [
    "## Logistic Regression"
   ]
  },
  {
   "cell_type": "markdown",
   "metadata": {},
   "source": [
    "Compute your cost by negative log likelihood."
   ]
  },
  {
   "cell_type": "code",
   "execution_count": 4,
   "metadata": {
    "collapsed": true
   },
   "outputs": [],
   "source": [
    "def sigmoid(t):\n",
    "    \"\"\"apply sigmoid function on t.\"\"\"\n",
    "    \n",
    "    ex = np.exp(t)\n",
    "    \n",
    "    return ex / (ex + 1)"
   ]
  },
  {
   "cell_type": "code",
   "execution_count": 5,
   "metadata": {
    "collapsed": true
   },
   "outputs": [],
   "source": [
    "def calculate_loss(y, tx, w):\n",
    "    \"\"\"compute the cost by negative log likelihood.\"\"\"\n",
    "    \n",
    "    loss = 0\n",
    "    \n",
    "    for i in range(0 , len(y)):\n",
    "        loss += np.log(1 + np.exp(np.dot(tx[i],w))) - y[i]*(np.dot(tx[i],w))\n",
    "        \n",
    "    return loss"
   ]
  },
  {
   "cell_type": "code",
   "execution_count": 6,
   "metadata": {
    "collapsed": true
   },
   "outputs": [],
   "source": [
    "def calculate_gradient(y, tx, w):\n",
    "    \"\"\"compute the gradient of loss.\"\"\"\n",
    "    \n",
    "\n",
    "    return tx.T.dot(sigmoid(np.dot(tx,w)) - y)\n"
   ]
  },
  {
   "cell_type": "markdown",
   "metadata": {},
   "source": [
    "### Using Gradient Descent\n",
    "Implement your function to calculate the gradient for logistic regression."
   ]
  },
  {
   "cell_type": "code",
   "execution_count": 7,
   "metadata": {
    "collapsed": true
   },
   "outputs": [],
   "source": [
    "def learning_by_gradient_descent(y, tx, w, gamma):\n",
    "    \"\"\"\n",
    "    Do one step of gradient descen using logistic regression.\n",
    "    Return the loss and the updated w.\n",
    "    \"\"\"\n",
    "    loss = calculate_loss(y, tx, w)\n",
    "    g = calculate_gradient(y, tx, w)\n",
    "    w = w - gamma*g\n",
    "    return loss, w"
   ]
  },
  {
   "cell_type": "markdown",
   "metadata": {},
   "source": [
    "Demo!"
   ]
  },
  {
   "cell_type": "code",
   "execution_count": 8,
   "metadata": {},
   "outputs": [
    {
     "name": "stdout",
     "output_type": "stream",
     "text": [
      "Current iteration=0, loss=[ 138.62943611]\n",
      "Current iteration=100, loss=[ 43.46403231]\n",
      "Current iteration=200, loss=[ 41.54589281]\n",
      "Current iteration=300, loss=[ 41.09863897]\n",
      "Current iteration=400, loss=[ 40.96487064]\n",
      "Current iteration=500, loss=[ 40.92008946]\n",
      "Current iteration=600, loss=[ 40.90418744]\n",
      "Current iteration=700, loss=[ 40.89834995]\n",
      "Current iteration=800, loss=[ 40.89616497]\n",
      "Current iteration=900, loss=[ 40.89533753]\n",
      "Current iteration=1000, loss=[ 40.89502196]\n",
      "Current iteration=1100, loss=[ 40.89490109]\n",
      "Current iteration=1200, loss=[ 40.89485466]\n",
      "Current iteration=1300, loss=[ 40.8948368]\n",
      "Current iteration=1400, loss=[ 40.89482992]\n",
      "Current iteration=1500, loss=[ 40.89482727]\n",
      "loss=[ 40.89482664]\n"
     ]
    },
    {
     "data": {
      "image/png": "[encoded data removed]",
      "text/plain": [
       "<matplotlib.figure.Figure at 0x1fea4a8e940>"
      ]
     },
     "metadata": {},
     "output_type": "display_data"
    }
   ],
   "source": [
    "from helpers import de_standardize\n",
    "\n",
    "def logistic_regression_gradient_descent_demo(y, x):\n",
    "    # init parameters\n",
    "    max_iter = 10000\n",
    "    threshold = 1e-8\n",
    "    gamma = 0.01\n",
    "    losses = []\n",
    "\n",
    "    # build tx\n",
    "    tx = np.c_[np.ones((y.shape[0], 1)), x]\n",
    "    w = np.zeros((tx.shape[1], 1))\n",
    "\n",
    "    # start the logistic regression\n",
    "    for iter in range(max_iter):\n",
    "        # get loss and update w.\n",
    "        loss, w = learning_by_gradient_descent(y, tx, w, gamma)\n",
    "        # log info\n",
    "        if iter % 100 == 0:\n",
    "            print(\"Current iteration={i}, loss={l}\".format(i=iter, l=loss))\n",
    "        # converge criterion\n",
    "        losses.append(loss)\n",
    "        if len(losses) > 1 and np.abs(losses[-1] - losses[-2]) < threshold:\n",
    "            break\n",
    "    # visualization\n",
    "    visualization(y, x, mean_x, std_x, w, \"classification_by_logistic_regression_gradient_descent\")\n",
    "    print(\"loss={l}\".format(l=calculate_loss(y, tx, w)))\n",
    "\n",
    "logistic_regression_gradient_descent_demo(y, x)"
   ]
  },
  {
   "cell_type": "markdown",
   "metadata": {},
   "source": [
    "Calculate your hessian below"
   ]
  },
  {
   "cell_type": "code",
   "execution_count": 9,
   "metadata": {
    "collapsed": true
   },
   "outputs": [],
   "source": [
    "def calculate_hessian(y, tx, w):\n",
    "    \"\"\"return the hessian of the loss function.\"\"\"\n",
    "    S = np.identity(len(y))\n",
    "    \n",
    "    for i in range(len(y)):\n",
    "        xtw = tx[i].T.dot(w)\n",
    "        S[i, i] = sigmoid(xtw) * ( 1 - sigmoid(xtw))\n",
    "    \n",
    "    ret = tx.T.dot(S)\n",
    "    return ret.dot(tx)"
   ]
  },
  {
   "cell_type": "markdown",
   "metadata": {},
   "source": [
    "Write a function below to return loss, gradient, and hessian."
   ]
  },
  {
   "cell_type": "code",
   "execution_count": 10,
   "metadata": {
    "collapsed": true
   },
   "outputs": [],
   "source": [
    "def logistic_regression(y, tx, w):\n",
    "    \"\"\"return the loss, gradient, and hessian.\"\"\"\n",
    "    return calculate_loss(y, tx, w), calculate_gradient(y, tx, w), calculate_hessian(y, tx, w)"
   ]
  },
  {
   "cell_type": "markdown",
   "metadata": {},
   "source": [
    "### Using Newton's method\n",
    "Use Newton's method for logistic regression."
   ]
  },
  {
   "cell_type": "code",
   "execution_count": 11,
   "metadata": {
    "collapsed": true
   },
   "outputs": [],
   "source": [
    "def learning_by_newton_method(y, tx, w):\n",
    "    \"\"\"\n",
    "    Do one step on Newton's method.\n",
    "    return the loss and updated w.\n",
    "    \"\"\"\n",
    "    loss, gradient, hessian = logistic_regression(y, tx, w)    \n",
    "    w = w - np.dot(np.linalg.inv(hessian), gradient)\n",
    "    return loss, w"
   ]
  },
  {
   "cell_type": "markdown",
   "metadata": {},
   "source": [
    "demo"
   ]
  },
  {
   "cell_type": "code",
   "execution_count": 39,
   "metadata": {
    "scrolled": true
   },
   "outputs": [
    {
     "name": "stdout",
     "output_type": "stream",
     "text": [
      "(3, 1)\n",
      "Current iteration=0, the loss=[ 138.62943611]\n",
      "(3, 1)\n",
      "Current iteration=1, the loss=[ 63.41155374]\n",
      "(3, 1)\n",
      "Current iteration=2, the loss=[ 47.3045862]\n",
      "(3, 1)\n",
      "Current iteration=3, the loss=[ 41.99746742]\n",
      "(3, 1)\n",
      "Current iteration=4, the loss=[ 40.95639864]\n",
      "(3, 1)\n",
      "Current iteration=5, the loss=[ 40.89511994]\n",
      "(3, 1)\n",
      "Current iteration=6, the loss=[ 40.89482562]\n",
      "(3, 1)\n",
      "Current iteration=7, the loss=[ 40.89482561]\n",
      "loss=[ 40.89482561]\n"
     ]
    },
    {
     "data": {
      "image/png": "[encoded data removed]",
      "text/plain": [
       "<matplotlib.figure.Figure at 0x1fea67c6668>"
      ]
     },
     "metadata": {},
     "output_type": "display_data"
    }
   ],
   "source": [
    "def logistic_regression_newton_method_demo(y, x):\n",
    "    # init parameters\n",
    "    max_iter = 100\n",
    "    threshold = 1e-8\n",
    "    lambda_ = 0.1\n",
    "    losses = []\n",
    "\n",
    "    # build tx\n",
    "    tx = np.c_[np.ones((y.shape[0], 1)), x]\n",
    "    w = np.zeros((tx.shape[1], 1))\n",
    "    \n",
    "    \n",
    "    # start the logistic regression\n",
    "    for iter in range(max_iter):\n",
    "        # get loss and update w.\n",
    "        \n",
    "        print(np.shape(w))\n",
    "\n",
    "        \n",
    "        loss, w = learning_by_newton_method(y, tx, w)\n",
    "        # log info\n",
    "        if iter % 1 == 0:\n",
    "            print(\"Current iteration={i}, the loss={l}\".format(i=iter, l=loss))\n",
    "        # converge criterion\n",
    "        losses.append(loss)\n",
    "        if len(losses) > 1 and np.abs(losses[-1] - losses[-2]) < threshold:\n",
    "            break\n",
    "    # visualization\n",
    "    visualization(y, x, mean_x, std_x, w, \"classification_by_logistic_regression_newton_method\")\n",
    "    print(\"loss={l}\".format(l=calculate_loss(y, tx, w)))\n",
    "\n",
    "logistic_regression_newton_method_demo(y, x)"
   ]
  },
  {
   "cell_type": "markdown",
   "metadata": {},
   "source": [
    "### Using penalized logistic regression\n",
    "Fill in the function below."
   ]
  },
  {
   "cell_type": "code",
   "execution_count": 13,
   "metadata": {
    "collapsed": true
   },
   "outputs": [],
   "source": [
    "def penalized_logistic_regression(y, tx, w, lambda_):\n",
    "    \"\"\"return the loss, gradient, and hessian.\"\"\"\n",
    "    # ***************************************************\n",
    "    # INSERT YOUR CODE HERE\n",
    "    # return loss, gradient, and hessian: TODO\n",
    "    # ***************************************************\n",
    "    \n",
    "    loss = calculate_loss(y, tx, w)\n",
    "    \n",
    "    loss += 0.5 * lambda_ * np.linalg.norm(w) ** 2\n",
    "    \n",
    "    g = calculate_gradient(y, tx, w)\n",
    "    \n",
    "    g += lambda_ * w\n",
    "    \n",
    "    hessian = calculate_hessian(y, tx, w)\n",
    "    \n",
    "    hessian +=  0.5 * lambda_ * np.linalg.norm(w) ** 2\n",
    "    \n",
    "    return loss, g, hessian"
   ]
  },
  {
   "cell_type": "code",
   "execution_count": 14,
   "metadata": {
    "collapsed": true
   },
   "outputs": [],
   "source": [
    "def learning_by_penalized_gradient(y, tx, w, gamma, lambda_):\n",
    "    \"\"\"\n",
    "    Do one step of gradient descent, using the penalized logistic regression.\n",
    "    Return the loss and updated w.\n",
    "    \"\"\"\n",
    "    # ***************************************************\n",
    "    # INSERT YOUR CODE HERE\n",
    "    # return loss, gradient: TODO\n",
    "    # ***************************************************\n",
    "    \n",
    "    loss, g, hessian = penalized_logistic_regression(y, tx, w, lambda_)\n",
    "    \n",
    "    # ***************************************************\n",
    "    # INSERT YOUR CODE HERE\n",
    "    # update w: TODO\n",
    "    # ***************************************************\n",
    "    \n",
    "    w = w - gamma*g\n",
    "    \n",
    "    \n",
    "    return loss, w"
   ]
  },
  {
   "cell_type": "code",
   "execution_count": 50,
   "metadata": {},
   "outputs": [
    {
     "name": "stdout",
     "output_type": "stream",
     "text": [
      "Current iteration=0, loss=[ 138.62943611]\n",
      "Current iteration=100, loss=[ 56.7978758]\n",
      "Current iteration=200, loss=[ 52.82352615]\n",
      "Current iteration=300, loss=[ 50.3326799]\n",
      "Current iteration=400, loss=[ 48.50185562]\n",
      "Current iteration=500, loss=[ 47.10969485]\n",
      "Current iteration=600, loss=[ 46.03077236]\n",
      "Current iteration=700, loss=[ 45.1812882]\n",
      "Current iteration=800, loss=[ 44.50306157]\n",
      "Current iteration=900, loss=[ 43.95486882]\n",
      "Current iteration=1000, loss=[ 43.50696339]\n",
      "Current iteration=1100, loss=[ 43.13750225]\n",
      "Current iteration=1200, loss=[ 42.83018105]\n",
      "Current iteration=1300, loss=[ 42.57264469]\n",
      "Current iteration=1400, loss=[ 42.35540089]\n",
      "Current iteration=1500, loss=[ 42.17106499]\n",
      "Current iteration=1600, loss=[ 42.01382626]\n",
      "Current iteration=1700, loss=[ 41.87906496]\n",
      "Current iteration=1800, loss=[ 41.7630735]\n",
      "Current iteration=1900, loss=[ 41.66285074]\n",
      "Current iteration=2000, loss=[ 41.57594827]\n",
      "Current iteration=2100, loss=[ 41.50035425]\n",
      "Current iteration=2200, loss=[ 41.43440467]\n",
      "Current iteration=2300, loss=[ 41.37671485]\n",
      "Current iteration=2400, loss=[ 41.32612616]\n",
      "Current iteration=2500, loss=[ 41.28166409]\n",
      "Current iteration=2600, loss=[ 41.24250511]\n",
      "Current iteration=2700, loss=[ 41.20795022]\n",
      "Current iteration=2800, loss=[ 41.1774037]\n",
      "Current iteration=2900, loss=[ 41.15035592]\n",
      "Current iteration=3000, loss=[ 41.12636935]\n",
      "Current iteration=3100, loss=[ 41.10506716]\n",
      "Current iteration=3200, loss=[ 41.08612378]\n",
      "Current iteration=3300, loss=[ 41.06925712]\n",
      "Current iteration=3400, loss=[ 41.05422214]\n",
      "Current iteration=3500, loss=[ 41.04080541]\n",
      "Current iteration=3600, loss=[ 41.02882065]\n",
      "Current iteration=3700, loss=[ 41.01810487]\n",
      "Current iteration=3800, loss=[ 41.0085152]\n",
      "Current iteration=3900, loss=[ 40.99992613]\n",
      "Current iteration=4000, loss=[ 40.99222723]\n",
      "Current iteration=4100, loss=[ 40.98532117]\n",
      "Current iteration=4200, loss=[ 40.97912202]\n",
      "Current iteration=4300, loss=[ 40.97355378]\n",
      "Current iteration=4400, loss=[ 40.96854918]\n",
      "Current iteration=4500, loss=[ 40.96404856]\n",
      "Current iteration=4600, loss=[ 40.95999897]\n",
      "Current iteration=4700, loss=[ 40.95635333]\n",
      "Current iteration=4800, loss=[ 40.95306974]\n",
      "Current iteration=4900, loss=[ 40.95011091]\n",
      "Current iteration=5000, loss=[ 40.94744355]\n",
      "Current iteration=5100, loss=[ 40.94503796]\n",
      "Current iteration=5200, loss=[ 40.94286762]\n",
      "Current iteration=5300, loss=[ 40.94090879]\n",
      "Current iteration=5400, loss=[ 40.93914026]\n",
      "Current iteration=5500, loss=[ 40.93754302]\n",
      "Current iteration=5600, loss=[ 40.93610002]\n",
      "Current iteration=5700, loss=[ 40.93479598]\n",
      "Current iteration=5800, loss=[ 40.9336172]\n",
      "Current iteration=5900, loss=[ 40.93255135]\n",
      "Current iteration=6000, loss=[ 40.93158738]\n",
      "Current iteration=6100, loss=[ 40.93071535]\n",
      "Current iteration=6200, loss=[ 40.9299263]\n",
      "Current iteration=6300, loss=[ 40.92921219]\n",
      "Current iteration=6400, loss=[ 40.92856576]\n",
      "Current iteration=6500, loss=[ 40.92798049]\n",
      "Current iteration=6600, loss=[ 40.9274505]\n",
      "Current iteration=6700, loss=[ 40.92697048]\n",
      "Current iteration=6800, loss=[ 40.92653565]\n",
      "Current iteration=6900, loss=[ 40.92614169]\n",
      "Current iteration=7000, loss=[ 40.9257847]\n",
      "Current iteration=7100, loss=[ 40.92546118]\n",
      "Current iteration=7200, loss=[ 40.92516793]\n",
      "Current iteration=7300, loss=[ 40.92490211]\n",
      "Current iteration=7400, loss=[ 40.92466111]\n",
      "Current iteration=7500, loss=[ 40.92444258]\n",
      "Current iteration=7600, loss=[ 40.92424442]\n",
      "Current iteration=7700, loss=[ 40.9240647]\n",
      "Current iteration=7800, loss=[ 40.9239017]\n",
      "Current iteration=7900, loss=[ 40.92375384]\n",
      "Current iteration=8000, loss=[ 40.9236197]\n",
      "Current iteration=8100, loss=[ 40.923498]\n",
      "Current iteration=8200, loss=[ 40.92338758]\n",
      "Current iteration=8300, loss=[ 40.92328739]\n",
      "Current iteration=8400, loss=[ 40.92319647]\n",
      "Current iteration=8500, loss=[ 40.92311395]\n",
      "Current iteration=8600, loss=[ 40.92303906]\n",
      "Current iteration=8700, loss=[ 40.92297108]\n",
      "Current iteration=8800, loss=[ 40.92290938]\n",
      "Current iteration=8900, loss=[ 40.92285337]\n",
      "Current iteration=9000, loss=[ 40.92280253]\n",
      "Current iteration=9100, loss=[ 40.92275636]\n",
      "Current iteration=9200, loss=[ 40.92271445]\n",
      "Current iteration=9300, loss=[ 40.9226764]\n",
      "Current iteration=9400, loss=[ 40.92264185]\n",
      "Current iteration=9500, loss=[ 40.92261048]\n",
      "Current iteration=9600, loss=[ 40.92258199]\n",
      "Current iteration=9700, loss=[ 40.92255612]\n",
      "Current iteration=9800, loss=[ 40.92253262]\n",
      "Current iteration=9900, loss=[ 40.92251129]\n",
      "loss=[ 40.89527764]\n"
     ]
    },
    {
     "data": {
      "image/png": "[encoded data removed]",
      "text/plain": [
       "<matplotlib.figure.Figure at 0x1fea7ae6630>"
      ]
     },
     "metadata": {},
     "output_type": "display_data"
    }
   ],
   "source": [
    "def logistic_regression_penalized_gradient_descent_demo(y, x):\n",
    "    # init parameters\n",
    "    max_iter = 10000\n",
    "    gamma = 0.001\n",
    "    lambda_ = 0.001\n",
    "    threshold = 1e-8\n",
    "    losses = []\n",
    "\n",
    "    # build tx\n",
    "    tx = np.c_[np.ones((y.shape[0], 1)), x]\n",
    "    w = np.zeros((tx.shape[1], 1))\n",
    "\n",
    "    # start the logistic regression\n",
    "    for iter in range(max_iter):\n",
    "        # get loss and update w.\n",
    "        loss, w = learning_by_penalized_gradient(y, tx, w, gamma, lambda_)\n",
    "        # log info\n",
    "        if iter % 100 == 0:\n",
    "            print(\"Current iteration={i}, loss={l}\".format(i=iter, l=loss))\n",
    "        # converge criterion\n",
    "        losses.append(loss)\n",
    "        if len(losses) > 1 and np.abs(losses[-1] - losses[-2]) < threshold:\n",
    "            print(w)\n",
    "            break\n",
    "    # visualization\n",
    "    visualization(y, x, mean_x, std_x, w, \"classification_by_logistic_regression_penalized_gradient_descent\")\n",
    "    print(\"loss={l}\".format(l=calculate_loss(y, tx, w)))\n",
    "    \n",
    "logistic_regression_penalized_gradient_descent_demo(y, x)"
   ]
  },
  {
   "cell_type": "code",
   "execution_count": 41,
   "metadata": {
    "collapsed": true
   },
   "outputs": [],
   "source": [
    "# init parameters\n",
    "max_iter = 10000\n",
    "gamma = 0.01\n",
    "lambda_ = 0.001\n",
    "threshold = 1e-8\n",
    "losses = []\n",
    "\n",
    "# build tx\n",
    "tx = np.c_[np.ones((y.shape[0], 1)), x]\n",
    "w = np.zeros((tx.shape[1], 1))\n"
   ]
  },
  {
   "cell_type": "code",
   "execution_count": 45,
   "metadata": {},
   "outputs": [
    {
     "data": {
      "text/plain": [
       "(200, 3)"
      ]
     },
     "execution_count": 45,
     "metadata": {},
     "output_type": "execute_result"
    }
   ],
   "source": [
    "np.shape(tx)"
   ]
  },
  {
   "cell_type": "code",
   "execution_count": 48,
   "metadata": {},
   "outputs": [
    {
     "data": {
      "text/plain": [
       "(200, 2)"
      ]
     },
     "execution_count": 48,
     "metadata": {},
     "output_type": "execute_result"
    }
   ],
   "source": [
    "np.shape(x)"
   ]
  },
  {
   "cell_type": "code",
   "execution_count": null,
   "metadata": {
    "collapsed": true
   },
   "outputs": [],
   "source": []
  }
 ],
 "metadata": {
  "anaconda-cloud": {},
  "kernelspec": {
   "display_name": "Python 3",
   "language": "python",
   "name": "python3"
  },
  "language_info": {
   "codemirror_mode": {
    "name": "ipython",
    "version": 3
   },
   "file_extension": ".py",
   "mimetype": "text/x-python",
   "name": "python",
   "nbconvert_exporter": "python",
   "pygments_lexer": "ipython3",
   "version": "3.6.2"
  }
 },
 "nbformat": 4,
 "nbformat_minor": 1
}
